{
  "nbformat": 4,
  "nbformat_minor": 0,
  "metadata": {
    "colab": {
      "name": "Digit Recognition using CNN.ipynb",
      "version": "0.3.2",
      "provenance": [],
      "include_colab_link": true
    },
    "kernelspec": {
      "name": "python3",
      "display_name": "Python 3"
    }
  },
  "cells": [
    {
      "cell_type": "markdown",
      "metadata": {
        "id": "view-in-github",
        "colab_type": "text"
      },
      "source": [
        "<a href=\"https://colab.research.google.com/github/dhruv007patel/Digit-Recognition-using-CNN/blob/master/Digit_Recognition_using_CNN.ipynb\" target=\"_parent\"><img src=\"https://colab.research.google.com/assets/colab-badge.svg\" alt=\"Open In Colab\"/></a>"
      ]
    },
    {
      "metadata": {
        "id": "mMZ1H9t436mQ",
        "colab_type": "code",
        "colab": {}
      },
      "cell_type": "code",
      "source": [
        "import keras\n",
        "from keras.datasets import mnist\n",
        "from keras.layers import Dense, Flatten\n",
        "from keras.layers import Conv2D, MaxPooling2D\n",
        "from keras.models import Sequential\n",
        "import matplotlib.pylab as plt\n",
        "\n",
        "batch_size = 128\n",
        "num_classes = 10\n",
        "epochs = 10\n",
        "\n",
        "# input image dimensions\n",
        "img_x, img_y = 28, 28\n"
      ],
      "execution_count": 0,
      "outputs": []
    },
    {
      "metadata": {
        "id": "BAGMvJ_sDbJ_",
        "colab_type": "code",
        "colab": {}
      },
      "cell_type": "code",
      "source": [
        "# load the MNIST data set, which already splits into train and test sets for us\n",
        "(x_train, y_train), (x_test, y_test) = mnist.load_data()"
      ],
      "execution_count": 0,
      "outputs": []
    },
    {
      "metadata": {
        "id": "wzDVGwusDoIi",
        "colab_type": "code",
        "colab": {}
      },
      "cell_type": "code",
      "source": [
        "# reshape the data into a 4D tensor - (sample_number, x_img_size, y_img_size, num_channels)\n",
        "# because the MNIST is greyscale, we only have a single channel - RGB colour images would have 3\n",
        "x_train = x_train.reshape(x_train.shape[0], img_x, img_y, 1)\n",
        "x_test = x_test.reshape(x_test.shape[0], img_x, img_y, 1)\n",
        "input_shape = (img_x, img_y, 1)"
      ],
      "execution_count": 0,
      "outputs": []
    },
    {
      "metadata": {
        "id": "Vlu2PJM4DsCQ",
        "colab_type": "code",
        "colab": {
          "base_uri": "https://localhost:8080/",
          "height": 68
        },
        "outputId": "1bdf6a3f-ba53-42e5-f8e6-482c1ead70b7"
      },
      "cell_type": "code",
      "source": [
        "# convert the data to the right type\n",
        "x_train = x_train.astype('float32')\n",
        "x_test = x_test.astype('float32')\n",
        "x_train /= 255\n",
        "x_test /= 255\n",
        "print('x_train shape:', x_train.shape)\n",
        "print(x_train.shape[0], 'train samples')\n",
        "print(x_test.shape[0], 'test samples')"
      ],
      "execution_count": 8,
      "outputs": [
        {
          "output_type": "stream",
          "text": [
            "x_train shape: (60000, 28, 28, 1)\n",
            "60000 train samples\n",
            "10000 test samples\n"
          ],
          "name": "stdout"
        }
      ]
    },
    {
      "metadata": {
        "id": "IC7vW4UfDvrA",
        "colab_type": "code",
        "colab": {}
      },
      "cell_type": "code",
      "source": [
        "# convert class vectors to binary class matrices - this is for use in the\n",
        "# categorical_crossentropy loss below\n",
        "y_train = keras.utils.to_categorical(y_train, num_classes)\n",
        "y_test = keras.utils.to_categorical(y_test, num_classes)"
      ],
      "execution_count": 0,
      "outputs": []
    },
    {
      "metadata": {
        "id": "BrpG9FpoDy-0",
        "colab_type": "code",
        "colab": {}
      },
      "cell_type": "code",
      "source": [
        "model = Sequential()\n",
        "model.add(Conv2D(32, kernel_size=(5, 5), strides=(1, 1),\n",
        "                 activation='relu',\n",
        "                 input_shape=input_shape))\n",
        "model.add(MaxPooling2D(pool_size=(2, 2), strides=(2, 2)))\n",
        "model.add(Conv2D(64, (5, 5), activation='relu'))\n",
        "model.add(MaxPooling2D(pool_size=(2, 2)))\n",
        "model.add(Flatten())\n",
        "model.add(Dense(1000, activation='relu'))\n",
        "model.add(Dense(num_classes, activation='softmax'))\n",
        "\n",
        "model.compile(loss=keras.losses.categorical_crossentropy,\n",
        "              optimizer=keras.optimizers.Adam(),\n",
        "              metrics=['accuracy'])"
      ],
      "execution_count": 0,
      "outputs": []
    },
    {
      "metadata": {
        "id": "CFIQXlPlD3Nu",
        "colab_type": "code",
        "colab": {}
      },
      "cell_type": "code",
      "source": [
        "class AccuracyHistory(keras.callbacks.Callback):\n",
        "    def on_train_begin(self, logs={}):\n",
        "        self.acc = []\n",
        "\n",
        "    def on_epoch_end(self, batch, logs={}):\n",
        "        self.acc.append(logs.get('acc'))\n",
        "\n",
        "history = AccuracyHistory()\n"
      ],
      "execution_count": 0,
      "outputs": []
    },
    {
      "metadata": {
        "id": "VuOwyYtAD84f",
        "colab_type": "code",
        "colab": {
          "base_uri": "https://localhost:8080/",
          "height": 408
        },
        "outputId": "b7163858-ffb5-43bb-c5a2-a4a53e86b24f"
      },
      "cell_type": "code",
      "source": [
        "model.fit(x_train, y_train,\n",
        "          batch_size=batch_size,\n",
        "          epochs=epochs,\n",
        "          verbose=1,\n",
        "          validation_data=(x_test, y_test),\n",
        "          callbacks=[history])\n",
        "score = model.evaluate(x_test, y_test, verbose=0)\n",
        "print('Test loss:', score[0])\n",
        "print('Test accuracy:', score[1])"
      ],
      "execution_count": 12,
      "outputs": [
        {
          "output_type": "stream",
          "text": [
            "Train on 60000 samples, validate on 10000 samples\n",
            "Epoch 1/10\n",
            "60000/60000 [==============================] - 89s 1ms/step - loss: 0.1522 - acc: 0.9535 - val_loss: 0.0514 - val_acc: 0.9828\n",
            "Epoch 2/10\n",
            "60000/60000 [==============================] - 88s 1ms/step - loss: 0.0409 - acc: 0.9873 - val_loss: 0.0298 - val_acc: 0.9902\n",
            "Epoch 3/10\n",
            "60000/60000 [==============================] - 89s 1ms/step - loss: 0.0281 - acc: 0.9914 - val_loss: 0.0242 - val_acc: 0.9918\n",
            "Epoch 4/10\n",
            "60000/60000 [==============================] - 88s 1ms/step - loss: 0.0200 - acc: 0.9937 - val_loss: 0.0368 - val_acc: 0.9896\n",
            "Epoch 5/10\n",
            "60000/60000 [==============================] - 88s 1ms/step - loss: 0.0159 - acc: 0.9948 - val_loss: 0.0308 - val_acc: 0.9907\n",
            "Epoch 6/10\n",
            "60000/60000 [==============================] - 89s 1ms/step - loss: 0.0130 - acc: 0.9955 - val_loss: 0.0401 - val_acc: 0.9881\n",
            "Epoch 7/10\n",
            "60000/60000 [==============================] - 88s 1ms/step - loss: 0.0105 - acc: 0.9966 - val_loss: 0.0266 - val_acc: 0.9918\n",
            "Epoch 8/10\n",
            "60000/60000 [==============================] - 88s 1ms/step - loss: 0.0093 - acc: 0.9968 - val_loss: 0.0312 - val_acc: 0.9919\n",
            "Epoch 9/10\n",
            "60000/60000 [==============================] - 87s 1ms/step - loss: 0.0088 - acc: 0.9971 - val_loss: 0.0301 - val_acc: 0.9928\n",
            "Epoch 10/10\n",
            "60000/60000 [==============================] - 88s 1ms/step - loss: 0.0076 - acc: 0.9976 - val_loss: 0.0265 - val_acc: 0.9929\n",
            "Test loss: 0.026541166715181315\n",
            "Test accuracy: 0.9929\n"
          ],
          "name": "stdout"
        }
      ]
    },
    {
      "metadata": {
        "id": "Bj_5UxBjEBr-",
        "colab_type": "code",
        "colab": {
          "base_uri": "https://localhost:8080/",
          "height": 361
        },
        "outputId": "915f7586-fc38-4ca3-a6b7-6c951718cbab"
      },
      "cell_type": "code",
      "source": [
        "plt.plot(range(1, 11), history.acc)\n",
        "plt.xlabel('Epochs')\n",
        "plt.ylabel('Accuracy')\n",
        "plt.show()"
      ],
      "execution_count": 13,
      "outputs": [
        {
          "output_type": "display_data",
          "data": {
            "image/png": "[encoded data removed]",
            "text/plain": [
              "<Figure size 576x396 with 1 Axes>"
            ]
          },
          "metadata": {
            "tags": []
          }
        }
      ]
    }
  ]
}